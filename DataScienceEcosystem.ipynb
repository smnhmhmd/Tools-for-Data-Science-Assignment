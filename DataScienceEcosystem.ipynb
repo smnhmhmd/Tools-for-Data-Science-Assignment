{
 "cells": [
  {
   "cell_type": "markdown",
   "id": "b80f0bee-0a01-4079-a7ce-b0f8c07cb5a5",
   "metadata": {},
   "source": [
    "# Data Science Tools and Ecosystem"
   ]
  },
  {
   "cell_type": "markdown",
   "id": "7e7748d7-fe1e-4bd8-8b4a-42bcf3b100f8",
   "metadata": {},
   "source": [
    "In this notebook, Data Science Tools and Ecosystem are summarized."
   ]
  },
  {
   "cell_type": "markdown",
   "id": "a261b641-4c49-4ec5-ba7a-57a090d07786",
   "metadata": {},
   "source": [
    "Some of the popular languages that Data Scientists use are:\n",
    "1. Python\n",
    "2. R\n",
    "3. SQL\n",
    "4. Julia"
   ]
  },
  {
   "cell_type": "markdown",
   "id": "bd888a38-2c0d-4d66-b169-f9953a0b04e4",
   "metadata": {
    "tags": []
   },
   "source": [
    "Some of the commonly used libraries used by Data Scientists include:\n",
    "1. Pandas\n",
    "2. Numpy\n",
    "3. Matplotlib\n",
    "4. Seaborn"
   ]
  },
  {
   "cell_type": "markdown",
   "id": "139d620a-38c1-4d1c-a86b-674b7dee9778",
   "metadata": {},
   "source": [
    "|Data Science Tools |\n",
    "|-------------------|\n",
    "|Jupyter Lab        |\n",
    "|Jupyter NoteBook   |\n",
    "|Anaconda Jupyter   |"
   ]
  },
  {
   "cell_type": "markdown",
   "id": "5f2e6b8f-cf56-4def-83b0-c7c2222577f1",
   "metadata": {},
   "source": [
    "### Below are a few examples of evaluating arithmetic expressions in Python."
   ]
  },
  {
   "cell_type": "code",
   "execution_count": 3,
   "id": "6c32dd08-440e-4b5e-9c27-c9a3d3e56b66",
   "metadata": {
    "tags": []
   },
   "outputs": [
    {
     "data": {
      "text/plain": [
       "17"
      ]
     },
     "execution_count": 3,
     "metadata": {},
     "output_type": "execute_result"
    }
   ],
   "source": [
    "# This a simple arithmetic expression to mutiply then add integers\n",
    "(3*4)+5"
   ]
  },
  {
   "cell_type": "code",
   "execution_count": 4,
   "id": "1bb986c1-a3a7-4335-894f-72c1334d216a",
   "metadata": {
    "tags": []
   },
   "outputs": [
    {
     "data": {
      "text/plain": [
       "3.3333333333333335"
      ]
     },
     "execution_count": 4,
     "metadata": {},
     "output_type": "execute_result"
    }
   ],
   "source": [
    "# This will convert 200 minutes to hours by diving by 60.\n",
    "200/60"
   ]
  },
  {
   "cell_type": "markdown",
   "id": "9a4337f5-3658-403f-b8ad-f8e2c936de6e",
   "metadata": {},
   "source": [
    "__Objectives:__\n",
    "+ Create a Jupyter Notebook with markdown and code cells\n",
    "+ List examples of languages, libraries and tools used in Data Science\n",
    "+ Share your Jupyter Notebook publicly on GitHub\n",
    "+ Evaluate notebooks submitted by your peers using the provided rubric\n",
    "+ Demonstrate proficiency in Data Science toolkit knowledge\n"
   ]
  },
  {
   "cell_type": "markdown",
   "id": "9108ab85-b8ff-492d-9045-85a8503230e8",
   "metadata": {},
   "source": [
    "## Author \n",
    "Samaneh Mohammadi"
   ]
  }
 ],
 "metadata": {
  "kernelspec": {
   "display_name": "Python",
   "language": "python",
   "name": "conda-env-python-py"
  },
  "language_info": {
   "codemirror_mode": {
    "name": "ipython",
    "version": 3
   },
   "file_extension": ".py",
   "mimetype": "text/x-python",
   "name": "python",
   "nbconvert_exporter": "python",
   "pygments_lexer": "ipython3",
   "version": "3.7.12"
  }
 },
 "nbformat": 4,
 "nbformat_minor": 5
}
